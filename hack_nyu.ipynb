{
 "cells": [
  {
   "cell_type": "code",
   "execution_count": 18,
   "metadata": {},
   "outputs": [],
   "source": [
    "import os"
   ]
  },
  {
   "cell_type": "code",
   "execution_count": 19,
   "metadata": {},
   "outputs": [],
   "source": [
    "os.environ['OPENAI_API_KEY'] = \"\""
   ]
  },
  {
   "cell_type": "code",
   "execution_count": 20,
   "metadata": {},
   "outputs": [],
   "source": [
    "from openai import OpenAI\n",
    "import openai\n",
    "\n",
    "config_list = [\n",
    "    {\"model\": \"gpt-4\", \"api_key\": os.environ['OPENAI_API_KEY'], \"api_type\": \"openai\"},\n",
    "]\n",
    "\n",
    "\n",
    "\n",
    "client = OpenAI(api_key=os.environ.get(\"OPENAI_API_KEY\", \"<your OpenAI API key if not set as env var>\"))"
   ]
  },
  {
   "cell_type": "code",
   "execution_count": 21,
   "metadata": {},
   "outputs": [],
   "source": [
    "def chat_with_openai(user_query, model=\"gpt-4\"):\n",
    "    \"\"\"Function to send a prompt to OpenAI's API and get a response\"\"\"\n",
    "    try:\n",
    "        prompt = f\"\"\"\n",
    "        {TASK_INSTRUCTION}\n",
    "        {FORMAT_INSTRUCTION}\n",
    "        **User Query:** {user_query}\n",
    "        **Context:** Assume the user has already given the food to their pet and is now seeking immediate advice. Provide reassurance for mild cases but emphasize urgency if the food is toxic.\n",
    "        **Style Guide:** Keep responses meme-worthy, engaging, and packed with personality. Use emojis sparingly for impact. Avoid complex jargon but ensure accuracy.\n",
    "        Focus mainly on the following key aspects:\n",
    "        - **Verdict**: Clear, fun, and definitive response on safety.\n",
    "        - **Why**: Concise but intelligent reasoning with relevant facts.\n",
    "        - **Better Alternatives**: High-quality, pet-friendly options that serve as ideal replacements.\n",
    "        \"\"\"\n",
    "        \n",
    "        response = client.chat.completions.create(\n",
    "            model=model,\n",
    "            messages=[\n",
    "                {\"role\": \"user\", \"content\": prompt}\n",
    "            ],\n",
    "        )\n",
    "        return response.choices[0].message.content\n",
    "    except Exception as e:\n",
    "        return f\"Error: {e}\""
   ]
  },
  {
   "cell_type": "code",
   "execution_count": 23,
   "metadata": {},
   "outputs": [
    {
     "name": "stdout",
     "output_type": "stream",
     "text": [
      "\n",
      "OpenAI Response:\n",
      " **Verdict:** Whoa there, hooman! No giving your doggo a water bottle snack course! ❌ \n",
      "\n",
      "**Why?** Our four-legged woof machines could choke on that! Plus, sharp bits from broken plastic are a stomachache waiting to happen. 🤢 \n",
      "\n",
      "**Better Alternatives:** Stick to good ol' chew toys. They're safe, certified, and doggo-approved! 🦴✅ Time to hit your favorite pet store! 🐾🛍️\n"
     ]
    }
   ],
   "source": [
    "# Task Instruction\n",
    "TASK_INSTRUCTION = \"\"\"\n",
    "You are a pet nutrition and safety expert with a fun, engaging, and humorous tone that appeals to Gen Z pet owners. Your job is to analyze whether a specific food item is safe for a given pet (dog, cat, rabbit, etc.). Respond in a playful, meme-worthy, and concise way while still being informative.\n",
    "\"\"\"\n",
    "\n",
    "# Format Instruction\n",
    "FORMAT_INSTRUCTION = \"\"\"\n",
    "Respond in the following format:\n",
    "\n",
    "**Verdict:** [Fun, clear decision]\n",
    "**Why?** [Brief explanation with intelligent reasoning]\n",
    "**Better Alternatives:** [High-quality, pet-friendly replacements]\n",
    "\n",
    "Use emojis sparingly but effectively to enhance engagement. Examples:\n",
    "- 🚨 for toxic warnings\n",
    "- ✅ for approved foods\n",
    "- 🤢 for symptoms or risks\n",
    "\"\"\"\n",
    "\n",
    "# User Input\n",
    "user_query = input(\"Enter your pet food query: \")\n",
    "\n",
    "response = chat_with_openai(user_query)\n",
    "print(\"\\nOpenAI Response:\\n\", response)\n"
   ]
  },
  {
   "cell_type": "code",
   "execution_count": null,
   "metadata": {},
   "outputs": [],
   "source": [
    "# Helper function to build the input prompt for our model\n",
    "def build_prompt(task_instruction: str, format_instruction: str, tools: list,examples:list, query: str):\n",
    "    prompt = f\"[BEGIN OF TASK INSTRUCTION]\\n{task_instruction}\\n[END OF TASK INSTRUCTION]\\n\\n\"\n",
    "    prompt += f\"[BEGIN OF AVAILABLE TOOLS]\\n{json.dumps(xlam_format_tools)}\\n[END OF AVAILABLE TOOLS]\\n\\n\"\n",
    "    prompt += f\"[BEGIN OF AVAILABLE EXAMPLES FOR TOOL CALLS]\\n{json.dumps(rag_extracted_examples)}\\n[END OF AVAILABLE EXAMPLES FOR TOOL CALLS]\\n\\n\"\n",
    "    prompt += f\"[BEGIN OF FORMAT INSTRUCTION]\\n{format_instruction}\\n[END OF FORMAT INSTRUCTION]\\n\\n\"\n",
    "    prompt += f\"[BEGIN OF QUERY]\\n{query}\\n[END OF QUERY]\\n\\n\"\n",
    "    return prompt"
   ]
  },
  {
   "cell_type": "code",
   "execution_count": null,
   "metadata": {},
   "outputs": [],
   "source": [
    "task_instructions = \"\"\n",
    "format_instructions = \"\"\n",
    "rag_extracted_examples = \"\"\n",
    "query = \"\"\n",
    "\n"
   ]
  },
  {
   "cell_type": "code",
   "execution_count": null,
   "metadata": {},
   "outputs": [],
   "source": [
    "content = build_prompt(task_instructions, format_instructions,rag_extracted_examples,query)"
   ]
  },
  {
   "cell_type": "code",
   "execution_count": null,
   "metadata": {},
   "outputs": [],
   "source": []
  }
 ],
 "metadata": {
  "kernelspec": {
   "display_name": "myenv",
   "language": "python",
   "name": "python3"
  },
  "language_info": {
   "codemirror_mode": {
    "name": "ipython",
    "version": 3
   },
   "file_extension": ".py",
   "mimetype": "text/x-python",
   "name": "python",
   "nbconvert_exporter": "python",
   "pygments_lexer": "ipython3",
   "version": "3.12.7"
  }
 },
 "nbformat": 4,
 "nbformat_minor": 2
}
